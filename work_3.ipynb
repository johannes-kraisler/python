{
 "cells": [
  {
   "cell_type": "code",
   "execution_count": null,
   "metadata": {},
   "outputs": [],
   "source": [
    "num_students = 3\n",
    "students_names = []\n",
    "\n",
    "\n",
    "for i in range (1, num_students + 1):\n",
    "    student = input (\"What is the name\")\n",
    "    students_names.append(student)\n",
    "\n",
    "print(students_names)\n",
    "\n",
    "\n",
    "num_marks = 3\n",
    "marks = []\n",
    "\n",
    "for i in range (1, num_marks + 1):\n",
    "    mark = input (\"What is the mark?\")\n",
    "    marks.append(mark)\n",
    "print (marks)\n",
    "\n",
    "\n",
    "threshold = 60\n",
    "\n",
    "result = [\"Passed\" if int(mark) >= threshold else \"Failed\" for mark in marks]\n",
    "\n",
    "\n",
    "for student, mark, result in zip(students_names, marks, result):\n",
    "    print (student, mark, result)"
   ]
  }
 ],
 "metadata": {
  "language_info": {
   "name": "python"
  },
  "orig_nbformat": 4
 },
 "nbformat": 4,
 "nbformat_minor": 2
}
