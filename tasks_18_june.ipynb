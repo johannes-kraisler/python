{
 "cells": [
  {
   "cell_type": "code",
   "execution_count": 3,
   "metadata": {},
   "outputs": [
    {
     "name": "stdout",
     "output_type": "stream",
     "text": [
      "Min is 2, max is 4, middle one is 3\n"
     ]
    }
   ],
   "source": [
    "\"\"\"В качестве входящих данных запросите три числа и выведите наименьшее,\n",
    "среднее и наибольшее. Предположим, все они разные\"\"\"\n",
    "\n",
    "\n",
    "\n",
    "number1=int(input(\"Write a number\"))\n",
    "number2=int(input(\"Write a number\"))\n",
    "number3=int(input(\"Write a number\"))\n",
    "\n",
    "x=min(number1,number2,number3)\n",
    "y=max(number1,number2,number3)\n",
    "\n",
    "\n",
    "if number1<number2<number3 or number3<number2<number1:\n",
    "    z=number2\n",
    "elif number2<number1<number3 or number3<number1<number2:\n",
    "    z=number1\n",
    "else:\n",
    "    z=number3\n",
    "\n",
    "\n",
    "print(f\"Min is {x}, max is {y}, middle one is {z}\")\n"
   ]
  },
  {
   "cell_type": "code",
   "execution_count": null,
   "metadata": {},
   "outputs": [],
   "source": [
    "\"\"\"Сыграйте в игру 7-boom: выведите все числа от 1 до 100; если число делится на 7\n",
    "или содержит цифру 7, выведите “BOOM” вместо числа.\"\"\"\n",
    "\n",
    "\n",
    "for num in range(1,101):\n",
    "    if num%7==0 or \"7\" in str(num):\n",
    "        print(\"Boom\")\n",
    "    else:\n",
    "        print (num)"
   ]
  },
  {
   "cell_type": "code",
   "execution_count": null,
   "metadata": {},
   "outputs": [],
   "source": [
    "\"\"\"Сыграйте в игру Fizz-Buzz: выведите все числа от 1 до 100; если число делится на\n",
    "3, вместо числа выведите «fizz». Если оно делится на 5, вместо числа выведите\n",
    "“buzz”. Если оно делится на оба, выведите «fizz buzz» вместо числа.\"\"\"\n",
    "\n",
    "\n",
    "for num in range(1,101):\n",
    "    if num%3==0:\n",
    "        print(\"Fizz\")\n",
    "    elif num%5==0:\n",
    "        print(\"Buzz\")\n",
    "    else:\n",
    "        print (num)\n",
    "\n",
    "\n"
   ]
  },
  {
   "cell_type": "code",
   "execution_count": 5,
   "metadata": {},
   "outputs": [
    {
     "name": "stdout",
     "output_type": "stream",
     "text": [
      "[0, 1, 2, 3, 4, 5, 6, 7, 8, 9]\n"
     ]
    }
   ],
   "source": [
    "list_1=[i for i in range (0,10)]\n",
    "print(list_1)"
   ]
  }
 ],
 "metadata": {
  "kernelspec": {
   "display_name": "Python 3",
   "language": "python",
   "name": "python3"
  },
  "language_info": {
   "codemirror_mode": {
    "name": "ipython",
    "version": 3
   },
   "file_extension": ".py",
   "mimetype": "text/x-python",
   "name": "python",
   "nbconvert_exporter": "python",
   "pygments_lexer": "ipython3",
   "version": "3.10.6"
  },
  "orig_nbformat": 4
 },
 "nbformat": 4,
 "nbformat_minor": 2
}
